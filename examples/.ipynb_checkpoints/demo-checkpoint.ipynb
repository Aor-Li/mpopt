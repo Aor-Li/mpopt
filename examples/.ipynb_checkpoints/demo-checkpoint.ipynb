{
 "cells": [
  {
   "cell_type": "markdown",
   "metadata": {},
   "source": [
    "# Optimization with MPOpt\n",
    "\n",
    "This is a demo which will show you the whole process of building, testing and analyzing your algorithm with `mpopt`.\n",
    "\n",
    "We will show the "
   ]
  },
  {
   "cell_type": "code",
   "execution_count": 1,
   "metadata": {},
   "outputs": [],
   "source": [
    "import numpy as np"
   ]
  },
  {
   "cell_type": "markdown",
   "metadata": {},
   "source": [
    "## 1. Objective Function\n",
    "\n",
    "`mpopt` use 'Evaluator' as an abstraction of objective function. \n",
    "\n",
    "For each run of optimization, an 'Evaluator' instance should be created and passed to the optimization algorithm. It holds all the information about the task and will automatically update states when some solutions are evaluated. \n",
    "\n",
    "Compared with the 'ask-tell' interface, this framework provides much more flexibility for optimization algorithm.\n",
    "\n",
    "You can get a standard evaluator from our provided benchmarks with following codes:"
   ]
  },
  {
   "cell_type": "code",
   "execution_count": 2,
   "metadata": {},
   "outputs": [],
   "source": [
    "from mpopt.benchmarks.benchmark import Benchmark\n",
    "# get benchmark CEC20 with 10 dim\n",
    "benchmark = Benchmark('CEC20', 10)\n",
    "# get an evaluator for the first function in benchmark\n",
    "evaluator = benchmark.generate(0)"
   ]
  },
  {
   "cell_type": "markdown",
   "metadata": {},
   "source": [
    "You are also free to build your own objective functions and evaluators. For example:"
   ]
  },
  {
   "cell_type": "code",
   "execution_count": 3,
   "metadata": {},
   "outputs": [],
   "source": [
    "from mpopt.tools.objective import ObjFunction, Evaluator\n",
    "\n",
    "# an callable objective function\n",
    "def my_obj(x):\n",
    "    return np.sum(x**2)\n",
    "\n",
    "# create objective function\n",
    "# information about my_obj is needed\n",
    "obj = ObjFunction(my_obj, dim=2, lb=-1, ub=1,)\n",
    "\n",
    "# create evaluator\n",
    "# information about the optimization is need\n",
    "evaluator = Evaluator(obj, max_eval=100)"
   ]
  },
  {
   "cell_type": "markdown",
   "metadata": {},
   "source": [
    "Now the evaluator is ready for an optimization. For example, this is how random-search be implemented in our framework. "
   ]
  },
  {
   "cell_type": "code",
   "execution_count": 4,
   "metadata": {},
   "outputs": [
    {
     "name": "stdout",
     "output_type": "stream",
     "text": [
      "Solution: [ 0.05214204 -0.07891306]. Val: 8.946e-03\n"
     ]
    }
   ],
   "source": [
    "# alias\n",
    "e = evaluator\n",
    "dim = e.obj.dim\n",
    "lb = e.obj.lb\n",
    "ub = e.obj.ub\n",
    "\n",
    "# algorithm begin\n",
    "while not e.terminate():\n",
    "    rand_sample = np.random.uniform(lb, ub, (1,dim))\n",
    "    e(rand_sample)\n",
    "print(\"Solution: {}. Val: {:.3e}\".format(e.best_x, e.best_y))"
   ]
  },
  {
   "cell_type": "code",
   "execution_count": null,
   "metadata": {},
   "outputs": [],
   "source": []
  },
  {
   "cell_type": "markdown",
   "metadata": {},
   "source": [
    "## 2. Population\n",
    "\n",
    "Using the evaluator, we can directly start optimization as above. However, here we focus on optimization algorithm based on population(s). \n",
    "\n",
    "`mpopt` provide a base class `BasePop` for general population and a base class  `BaseFirework` for firework in `mpopt.population.base`. \n",
    "\n",
    "You are supposed to inherit from those class, and re-write methods you changed. New population definition should be stored in 'mpopt/population' directory.\n",
    "\n",
    "For exmaple, here we build a firework population with dynamic amplitude (which is the same as [BBFWA]):"
   ]
  },
  {
   "cell_type": "code",
   "execution_count": 5,
   "metadata": {},
   "outputs": [],
   "source": [
    "from mpopt.population.base import BaseFirework\n",
    "\n",
    "class DynFirework(BaseFirework):\n",
    "    # re-write __init__\n",
    "    def __init__(self, idv, val, amp, num_spk, **kwargs):\n",
    "        super().__init__(idv, val, **kwargs)\n",
    "\n",
    "        self.amp = amp\n",
    "        self.num_spk = num_spk\n",
    "\n",
    "        # set default dynamic ratio if not given\n",
    "        if 'dr_amp' not in self.__dict__:\n",
    "            self.dr_amp = 1.2\n",
    "        if 'dr_red' not in self.__dict__: \n",
    "            self.dr_red = 0.9\n",
    "\n",
    "    # re-write update for dynamic ratios\n",
    "    def update(self):\n",
    "        if self.val - self.new_val > 1e-5:\n",
    "            # improved\n",
    "            self.amp *= self.dr_amp\n",
    "        else:\n",
    "            self.amp *= self.dr_red\n",
    "        \n",
    "        # update firework\n",
    "        self.idv = self.new_idv\n",
    "        self.val = self.new_val"
   ]
  },
  {
   "cell_type": "markdown",
   "metadata": {},
   "source": [
    "Since we have default setting for other parts of the firework population, a `DynFirework` instance is ready to evolve with a evaluator once it is created. "
   ]
  },
  {
   "cell_type": "code",
   "execution_count": 6,
   "metadata": {},
   "outputs": [
    {
     "name": "stdout",
     "output_type": "stream",
     "text": [
      "Solution: [0.01954127 0.06263937]. Val: 4.306e-03\n"
     ]
    }
   ],
   "source": [
    "# set environment\n",
    "e = Evaluator(obj, max_eval=100)\n",
    "dim = e.obj.dim\n",
    "lb = e.obj.lb\n",
    "ub = e.obj.ub\n",
    "\n",
    "# init pop\n",
    "idv = np.random.uniform(lb, ub, (dim,))\n",
    "val = e(idv[np.newaxis,:])[0]\n",
    "\n",
    "firework = DynFirework(idv, val, ub-lb, 5, lb=lb, ub=ub)\n",
    "while not e.terminate():\n",
    "    firework.evolve(e)\n",
    "print(\"Solution: {}. Val: {:.3e}\".format(e.best_x, e.best_y))"
   ]
  },
  {
   "cell_type": "markdown",
   "metadata": {},
   "source": [
    "## optimization\n",
    "\n",
    "In fact, the cell above is already a runable optimization algorithm based on a single population. However, there are still two important directions to improve it.\n",
    "\n"
   ]
  },
  {
   "cell_type": "markdown",
   "metadata": {},
   "source": [
    "### 1. Unified Interface\n",
    "\n",
    "For the convenience to apply or analysis our algorithm, it is better to unify their interface. We require each algorithm be abstracted as a class and provide following methods:\n",
    "\n",
    "- `__init__`: Define all the parameters and states (include populations) here for reading.\n",
    "\n",
    "- `default_params(self, benchmark=None)`: Get default parameters.\n",
    "\n",
    "- `set_params(self, params)`: Set parameters. \n",
    "\n",
    "- `init(self, e)`: Init states of the algorithm.\n",
    "\n",
    "- `optimize(self, e)`: Run optimization and return the optimal value.\n",
    "\n"
   ]
  },
  {
   "cell_type": "markdown",
   "metadata": {},
   "source": [
    "### 2. Collaborate Multiple Populations\n",
    "\n",
    "With `mpopt`, we hope to easily implement optimizations with multiple populations. Now the evolution method for each population can be pre-defined, we only need to consider the collaboration during each iteration.\n",
    "\n",
    "In order to maximize the flexibility of the algorithms, we leave all the states and parameters of population opened. So in each itaration, you can just let each population evolve and then do whatever you want."
   ]
  },
  {
   "cell_type": "markdown",
   "metadata": {},
   "source": [
    "### Example of LoTFWA (without guided mutation)\n",
    "\n",
    "We implement a LoTFWA without guided mutation algorithm as an example:"
   ]
  },
  {
   "cell_type": "code",
   "execution_count": 7,
   "metadata": {},
   "outputs": [
    {
     "name": "stdout",
     "output_type": "stream",
     "text": [
      "Solution: [-0.01144639 -0.01656987]. Val: 4.056e-04\n"
     ]
    }
   ],
   "source": [
    "from mpopt.algorithms.base import BaseAlg\n",
    "\n",
    "class DemoFWA(BaseAlg):\n",
    "\n",
    "    def __init__(self, obj):\n",
    "        # populations\n",
    "        self.fireworks = None\n",
    "        # params\n",
    "        self.fw_size = None\n",
    "        self.init_amp = None\n",
    "        self.num_spk = None\n",
    "        # load default\n",
    "        self.set_params(self.default_params(obj))\n",
    "    \n",
    "    def default_params(self, obj):\n",
    "        params = {}\n",
    "        params['fw_size'] = 4\n",
    "        params['init_amp'] = obj.ub - obj.lb\n",
    "        params['num_spk'] = 5\n",
    "        return params\n",
    "\n",
    "    def init(self, e):\n",
    "        init_pop = np.random.uniform(e.obj.lb, e.obj.ub, (self.fw_size, e.obj.dim))\n",
    "        init_fit = e(init_pop)\n",
    "        self.fireworks = [DynFirework(init_pop[i,:], \n",
    "                                      init_fit[i], \n",
    "                                      self.init_amp, \n",
    "                                      self.num_spk,\n",
    "                                      lb=e.obj.lb,\n",
    "                                      ub=e.obj.ub,) for i in range(self.fw_size)]\n",
    "    \n",
    "    def optimize(self, e):\n",
    "        self.init(e)\n",
    "        while not e.terminate():\n",
    "            # evolve\n",
    "            for idx in range(self.fw_size):\n",
    "                self.fireworks[idx].explode()\n",
    "                self.fireworks[idx].eval(e)\n",
    "                self.fireworks[idx].select()\n",
    "            \n",
    "            # collaborate\n",
    "            restart = [False] * self.fw_size\n",
    "            for idx in range(self.fw_size):\n",
    "                # alias\n",
    "                fw = self.fireworks[idx]\n",
    "                # improved\n",
    "                if fw.val - fw.new_val > 1e-5:\n",
    "                    rest_iter = (e.max_eval - e.num_eval) / (self.fw_size * self.num_spk)\n",
    "                    if (fw.val - fw.new_val) * rest_iter > (fw.val - e.cur_y):\n",
    "                        # restart fw\n",
    "                        restart[idx] = True\n",
    "                        restart_pop = np.random.uniform(e.obj.lb, e.obj.ub, (1, e.obj.dim))\n",
    "                        restart_fit = e(restart_pop) \n",
    "                        self.fireworks[idx] = DynFirework(restart_pop[0,:],\n",
    "                                                          restart_fit[0],\n",
    "                                                          self.init_amp,\n",
    "                                                          self.num_spk,\n",
    "                                                          lb=e.obj.lb,\n",
    "                                                          ub=e.obj.ub,)\n",
    "            \n",
    "            # update populations\n",
    "            for idx in range(self.fw_size):\n",
    "                if not restart[idx]:\n",
    "                    self.fireworks[idx].update()\n",
    "        \n",
    "        return e.best_y\n",
    "    \n",
    "# optimize\n",
    "e = Evaluator(obj, max_eval=1000)\n",
    "alg = DemoFWA(obj)\n",
    "alg.optimize(e)\n",
    "print(\"Solution: {}. Val: {:.3e}\".format(e.best_x, e.best_y))"
   ]
  },
  {
   "cell_type": "markdown",
   "metadata": {},
   "source": [
    "## Benchmarking\n",
    "\n",
    "We provide several standard benchmarks to test your algorithm in `mpopt.benchmarks`. As we shown before, `benchmark` instance can generate evaluators which is set according to the requirements of the benchmark.\n",
    "\n",
    "We also provide a standard testing script for benchmarking in `mpopt/../runs/benchmark_opt.py` which including evaluators generation, timing, multiprocessing, and result recording. You can run a test of LoTFWA on CEC20 by typing following code:"
   ]
  },
  {
   "cell_type": "code",
   "execution_count": 3,
   "metadata": {},
   "outputs": [
    {
     "name": "stdout",
     "output_type": "stream",
     "text": [
      "Prob.1   , res:1.2579e+06,\t time:12.706\n",
      "Prob.1   , res:4.3750e+05,\t time:13.201\n",
      "Prob.1   , res:1.3898e+06,\t time:13.300\n",
      "Prob.2   , res:1.5320e+03,\t time:15.024\n",
      "Prob.2   , res:1.6166e+03,\t time:14.774\n",
      "Prob.2   , res:1.7006e+03,\t time:14.050\n",
      "Prob.3   , res:7.3150e+02,\t time:13.201\n",
      "Prob.3   , res:7.4269e+02,\t time:13.177\n",
      "Prob.3   , res:7.4502e+02,\t time:13.339\n",
      "Prob.4   , res:1.9049e+03,\t time:13.108\n",
      "Prob.4   , res:1.9032e+03,\t time:13.223\n",
      "Prob.4   , res:1.9037e+03,\t time:13.371\n",
      "Prob.5   , res:5.1723e+03,\t time:13.883\n",
      "Prob.5   , res:5.5361e+03,\t time:13.655\n",
      "Prob.5   , res:3.2572e+03,\t time:14.078\n",
      "Prob.6   , res:1.6282e+03,\t time:13.557\n",
      "Prob.6   , res:1.6492e+03,\t time:13.468\n",
      "Prob.6   , res:1.6632e+03,\t time:13.414\n",
      "Prob.7   , res:3.1865e+03,\t time:13.492\n",
      "Prob.7   , res:3.6938e+03,\t time:14.006\n",
      "Prob.7   , res:2.8178e+03,\t time:13.583\n",
      "Prob.8   , res:2.2292e+03,\t time:17.910\n",
      "Prob.8   , res:2.3098e+03,\t time:17.667\n",
      "Prob.8   , res:2.2208e+03,\t time:17.300\n",
      "Prob.9   , res:2.7418e+03,\t time:18.133\n",
      "Prob.9   , res:2.7389e+03,\t time:18.607\n",
      "Prob.9   , res:2.5022e+03,\t time:18.575\n",
      "Prob.10  , res:2.8995e+03,\t time:17.974\n",
      "Prob.10  , res:2.8986e+03,\t time:17.891\n",
      "Prob.10  , res:2.8993e+03,\t time:18.325\n",
      "[[1257885.6419208918, 437496.253427736, 1389843.991652045], [1531.9882926917871, 1616.5961520471456, 1700.6488181924165], [731.4970294093685, 742.6881639402714, 745.024924563809], [1904.8959615426882, 1903.1947304178366, 1903.7487244387412], [5172.335138075438, 5536.070060198399, 3257.216190160304], [1628.1922437419148, 1649.227217849963, 1663.1551970315877], [3186.4826919565785, 3693.8280770417173, 2817.7997356004207], [2229.230889171486, 2309.797158599472, 2220.843139507292], [2741.8453410358893, 2738.854371235345, 2502.221229938401], [2899.451351275521, 2898.580470595073, 2899.260681370608]]\n"
     ]
    }
   ],
   "source": [
    "!python ../runs/benchmark_opt.py -b CEC20 -d 10 -a LoTFWA -r 30 -n test"
   ]
  },
  {
   "cell_type": "markdown",
   "metadata": {},
   "source": [
    "## Results Comparing\n",
    "\n",
    "We provide useful comparing script for our formatted result records in `mpopt.tools.result.py`.\n",
    "\n",
    "Provide two result paths, the script will conduct a statistical comparation:"
   ]
  },
  {
   "cell_type": "code",
   "execution_count": 1,
   "metadata": {},
   "outputs": [
    {
     "name": "stdout",
     "output_type": "stream",
     "text": [
      "10 <class 'int'>\r\n",
      "Comparing on CEC20: alg1: AGSK, alg2: LoTFWA__test\r\n",
      "Win: 0, Lose: 10 (for alg2).\r\n",
      "+-----+-----------+-----------+-----------+-----------+---------+-----+\r\n",
      "| idx | alg1.mean |  alg1.std | alg2.mean |  alg2.std | P-value | Sig |\r\n",
      "+-----+-----------+-----------+-----------+-----------+---------+-----+\r\n",
      "|  \u001b[1;31m1\u001b[0m  | \u001b[1;31m0.000e+00\u001b[0m | \u001b[1;31m0.000e+00\u001b[0m | \u001b[1;31m8.574e+05\u001b[0m | \u001b[1;31m3.675e+05\u001b[0m |   \u001b[1;31m0.00\u001b[0m  |  \u001b[1;31m+\u001b[0m  |\r\n",
      "|  \u001b[1;31m2\u001b[0m  | \u001b[1;31m2.845e+01\u001b[0m | \u001b[1;31m3.152e+01\u001b[0m | \u001b[1;31m5.925e+02\u001b[0m | \u001b[1;31m2.662e+02\u001b[0m |   \u001b[1;31m0.00\u001b[0m  |  \u001b[1;31m+\u001b[0m  |\r\n",
      "|  \u001b[1;31m3\u001b[0m  | \u001b[1;31m9.925e+00\u001b[0m | \u001b[1;31m4.186e+00\u001b[0m | \u001b[1;31m3.703e+01\u001b[0m | \u001b[1;31m6.706e+00\u001b[0m |   \u001b[1;31m0.00\u001b[0m  |  \u001b[1;31m+\u001b[0m  |\r\n",
      "|  \u001b[1;31m4\u001b[0m  | \u001b[1;31m5.826e-02\u001b[0m | \u001b[1;31m3.061e-02\u001b[0m | \u001b[1;31m3.664e+00\u001b[0m | \u001b[1;31m7.167e-01\u001b[0m |   \u001b[1;31m0.00\u001b[0m  |  \u001b[1;31m+\u001b[0m  |\r\n",
      "|  \u001b[1;31m5\u001b[0m  | \u001b[1;31m3.176e-01\u001b[0m | \u001b[1;31m3.008e-01\u001b[0m | \u001b[1;31m2.402e+04\u001b[0m | \u001b[1;31m2.837e+04\u001b[0m |   \u001b[1;31m0.00\u001b[0m  |  \u001b[1;31m+\u001b[0m  |\r\n",
      "|  \u001b[1;31m6\u001b[0m  | \u001b[1;31m1.547e-01\u001b[0m | \u001b[1;31m1.154e-01\u001b[0m | \u001b[1;31m8.700e+01\u001b[0m | \u001b[1;31m6.906e+01\u001b[0m |   \u001b[1;31m0.00\u001b[0m  |  \u001b[1;31m+\u001b[0m  |\r\n",
      "|  \u001b[1;31m7\u001b[0m  | \u001b[1;31m1.537e-03\u001b[0m | \u001b[1;31m1.682e-03\u001b[0m | \u001b[1;31m2.348e+03\u001b[0m | \u001b[1;31m1.083e+03\u001b[0m |   \u001b[1;31m0.00\u001b[0m  |  \u001b[1;31m+\u001b[0m  |\r\n",
      "|  \u001b[1;31m8\u001b[0m  | \u001b[1;31m1.800e+01\u001b[0m | \u001b[1;31m2.339e+01\u001b[0m | \u001b[1;31m7.327e+01\u001b[0m | \u001b[1;31m3.921e+01\u001b[0m |   \u001b[1;31m0.00\u001b[0m  |  \u001b[1;31m+\u001b[0m  |\r\n",
      "|  \u001b[1;31m9\u001b[0m  | \u001b[1;31m7.629e+01\u001b[0m | \u001b[1;31m4.214e+01\u001b[0m | \u001b[1;31m2.406e+02\u001b[0m | \u001b[1;31m1.203e+02\u001b[0m |   \u001b[1;31m0.00\u001b[0m  |  \u001b[1;31m+\u001b[0m  |\r\n",
      "|  \u001b[1;31m10\u001b[0m | \u001b[1;31m2.985e+02\u001b[0m | \u001b[1;31m1.404e+02\u001b[0m | \u001b[1;31m4.069e+02\u001b[0m | \u001b[1;31m1.740e+01\u001b[0m |   \u001b[1;31m0.00\u001b[0m  |  \u001b[1;31m+\u001b[0m  |\r\n",
      "+-----+-----------+-----------+-----------+-----------+---------+-----+\r\n"
     ]
    }
   ],
   "source": [
    "!python ../mpopt/tools/result.py ../logs/CEC20_10D/AGSK.json ../logs/CEC20_10D/LoTFWA_test.json --b CEC20 -d 10"
   ]
  }
 ],
 "metadata": {
  "kernelspec": {
   "display_name": "Python 3",
   "language": "python",
   "name": "python3"
  },
  "language_info": {
   "codemirror_mode": {
    "name": "ipython",
    "version": 3
   },
   "file_extension": ".py",
   "mimetype": "text/x-python",
   "name": "python",
   "nbconvert_exporter": "python",
   "pygments_lexer": "ipython3",
   "version": "3.7.3"
  }
 },
 "nbformat": 4,
 "nbformat_minor": 2
}
